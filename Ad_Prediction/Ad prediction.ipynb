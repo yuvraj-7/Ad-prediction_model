{
 "cells": [
  {
   "cell_type": "markdown",
   "id": "850f1b97",
   "metadata": {},
   "source": [
    "## Insert dataset"
   ]
  },
  {
   "cell_type": "code",
   "execution_count": 1,
   "id": "b43e75d1",
   "metadata": {},
   "outputs": [],
   "source": [
    "import pandas as pd\n",
    "from sklearn.model_selection import train_test_split\n",
    "data = pd.read_csv('C:\\\\Users\\\\yuvra\\\\OneDrive\\\\Desktop\\\\Train_Data.csv')\n",
    "test=pd.read_csv('C:\\\\Users\\\\yuvra\\\\OneDrive\\\\Desktop\\\\Test_Data.csv')"
   ]
  },
  {
   "cell_type": "markdown",
   "id": "58092dfd",
   "metadata": {},
   "source": [
    "## Splitting the dataset"
   ]
  },
  {
   "cell_type": "code",
   "execution_count": 3,
   "id": "dd35536a",
   "metadata": {},
   "outputs": [],
   "source": [
    "y = data.revenue\n",
    "X = data.drop(['revenue','campaign'], axis=1)\n",
    "\n",
    "X_train_full, X_valid_full, y_train, y_valid = train_test_split(X, y, train_size=0.8, test_size=0.2,\n",
    "                                                                random_state=0)\n",
    "test=test.drop(['campaign'],axis=1)\n",
    "\n"
   ]
  },
  {
   "cell_type": "code",
   "execution_count": 5,
   "id": "a199d7b2",
   "metadata": {},
   "outputs": [
    {
     "data": {
      "text/html": [
       "<div>\n",
       "<style scoped>\n",
       "    .dataframe tbody tr th:only-of-type {\n",
       "        vertical-align: middle;\n",
       "    }\n",
       "\n",
       "    .dataframe tbody tr th {\n",
       "        vertical-align: top;\n",
       "    }\n",
       "\n",
       "    .dataframe thead th {\n",
       "        text-align: right;\n",
       "    }\n",
       "</style>\n",
       "<table border=\"1\" class=\"dataframe\">\n",
       "  <thead>\n",
       "    <tr style=\"text-align: right;\">\n",
       "      <th></th>\n",
       "      <th>date</th>\n",
       "      <th>adgroup</th>\n",
       "      <th>ad</th>\n",
       "      <th>impressions</th>\n",
       "      <th>clicks</th>\n",
       "      <th>cost</th>\n",
       "      <th>conversions</th>\n",
       "    </tr>\n",
       "  </thead>\n",
       "  <tbody>\n",
       "    <tr>\n",
       "      <th>483</th>\n",
       "      <td>27-08-2020</td>\n",
       "      <td>adgroup 3</td>\n",
       "      <td>ad 13</td>\n",
       "      <td>398</td>\n",
       "      <td>188</td>\n",
       "      <td>62.03</td>\n",
       "      <td>7</td>\n",
       "    </tr>\n",
       "    <tr>\n",
       "      <th>982</th>\n",
       "      <td>26-09-2020</td>\n",
       "      <td>adgroup 3</td>\n",
       "      <td>ad 8</td>\n",
       "      <td>442</td>\n",
       "      <td>212</td>\n",
       "      <td>57.45</td>\n",
       "      <td>1</td>\n",
       "    </tr>\n",
       "    <tr>\n",
       "      <th>4101</th>\n",
       "      <td>08-02-2021</td>\n",
       "      <td>adgroup 1</td>\n",
       "      <td>ad 1</td>\n",
       "      <td>16</td>\n",
       "      <td>7</td>\n",
       "      <td>0.07</td>\n",
       "      <td>0</td>\n",
       "    </tr>\n",
       "    <tr>\n",
       "      <th>2829</th>\n",
       "      <td>19-12-2020</td>\n",
       "      <td>adgroup 3</td>\n",
       "      <td>ad 4</td>\n",
       "      <td>39</td>\n",
       "      <td>17</td>\n",
       "      <td>0.21</td>\n",
       "      <td>0</td>\n",
       "    </tr>\n",
       "    <tr>\n",
       "      <th>2627</th>\n",
       "      <td>11-12-2020</td>\n",
       "      <td>adgroup 3</td>\n",
       "      <td>ad 7</td>\n",
       "      <td>9</td>\n",
       "      <td>6</td>\n",
       "      <td>0.07</td>\n",
       "      <td>0</td>\n",
       "    </tr>\n",
       "  </tbody>\n",
       "</table>\n",
       "</div>"
      ],
      "text/plain": [
       "            date    adgroup     ad  impressions  clicks   cost  conversions\n",
       "483   27-08-2020  adgroup 3  ad 13          398     188  62.03            7\n",
       "982   26-09-2020  adgroup 3   ad 8          442     212  57.45            1\n",
       "4101  08-02-2021  adgroup 1   ad 1           16       7   0.07            0\n",
       "2829  19-12-2020  adgroup 3   ad 4           39      17   0.21            0\n",
       "2627  11-12-2020  adgroup 3   ad 7            9       6   0.07            0"
      ]
     },
     "execution_count": 5,
     "metadata": {},
     "output_type": "execute_result"
    }
   ],
   "source": [
    "X_train_full.head()"
   ]
  },
  {
   "cell_type": "markdown",
   "id": "a2f9de3c",
   "metadata": {},
   "source": [
    "## Data preprocessing"
   ]
  },
  {
   "cell_type": "code",
   "execution_count": 6,
   "id": "0772dac4",
   "metadata": {},
   "outputs": [],
   "source": [
    "low_cardinality_cols = [cname for cname in X_train_full.columns if X_train_full[cname].nunique() < 10 and \n",
    "                        X_train_full[cname].dtype == \"object\"]\n",
    "numerical_cols = [cname for cname in X_train_full.columns if X_train_full[cname].dtype in ['int64', 'float64']]"
   ]
  },
  {
   "cell_type": "code",
   "execution_count": 7,
   "id": "6e9933dd",
   "metadata": {},
   "outputs": [],
   "source": [
    "my_cols = low_cardinality_cols + numerical_cols\n",
    "X_train = X_train_full[my_cols].copy()\n",
    "X_valid = X_valid_full[my_cols].copy()\n",
    "X_test = test[my_cols].copy()"
   ]
  },
  {
   "cell_type": "code",
   "execution_count": 8,
   "id": "7fc8e88f",
   "metadata": {},
   "outputs": [
    {
     "data": {
      "text/html": [
       "<div>\n",
       "<style scoped>\n",
       "    .dataframe tbody tr th:only-of-type {\n",
       "        vertical-align: middle;\n",
       "    }\n",
       "\n",
       "    .dataframe tbody tr th {\n",
       "        vertical-align: top;\n",
       "    }\n",
       "\n",
       "    .dataframe thead th {\n",
       "        text-align: right;\n",
       "    }\n",
       "</style>\n",
       "<table border=\"1\" class=\"dataframe\">\n",
       "  <thead>\n",
       "    <tr style=\"text-align: right;\">\n",
       "      <th></th>\n",
       "      <th>adgroup</th>\n",
       "      <th>impressions</th>\n",
       "      <th>clicks</th>\n",
       "      <th>cost</th>\n",
       "      <th>conversions</th>\n",
       "    </tr>\n",
       "  </thead>\n",
       "  <tbody>\n",
       "    <tr>\n",
       "      <th>483</th>\n",
       "      <td>adgroup 3</td>\n",
       "      <td>398</td>\n",
       "      <td>188</td>\n",
       "      <td>62.03</td>\n",
       "      <td>7</td>\n",
       "    </tr>\n",
       "    <tr>\n",
       "      <th>982</th>\n",
       "      <td>adgroup 3</td>\n",
       "      <td>442</td>\n",
       "      <td>212</td>\n",
       "      <td>57.45</td>\n",
       "      <td>1</td>\n",
       "    </tr>\n",
       "    <tr>\n",
       "      <th>4101</th>\n",
       "      <td>adgroup 1</td>\n",
       "      <td>16</td>\n",
       "      <td>7</td>\n",
       "      <td>0.07</td>\n",
       "      <td>0</td>\n",
       "    </tr>\n",
       "    <tr>\n",
       "      <th>2829</th>\n",
       "      <td>adgroup 3</td>\n",
       "      <td>39</td>\n",
       "      <td>17</td>\n",
       "      <td>0.21</td>\n",
       "      <td>0</td>\n",
       "    </tr>\n",
       "    <tr>\n",
       "      <th>2627</th>\n",
       "      <td>adgroup 3</td>\n",
       "      <td>9</td>\n",
       "      <td>6</td>\n",
       "      <td>0.07</td>\n",
       "      <td>0</td>\n",
       "    </tr>\n",
       "  </tbody>\n",
       "</table>\n",
       "</div>"
      ],
      "text/plain": [
       "        adgroup  impressions  clicks   cost  conversions\n",
       "483   adgroup 3          398     188  62.03            7\n",
       "982   adgroup 3          442     212  57.45            1\n",
       "4101  adgroup 1           16       7   0.07            0\n",
       "2829  adgroup 3           39      17   0.21            0\n",
       "2627  adgroup 3            9       6   0.07            0"
      ]
     },
     "execution_count": 8,
     "metadata": {},
     "output_type": "execute_result"
    }
   ],
   "source": [
    "X_train.head()"
   ]
  },
  {
   "cell_type": "markdown",
   "id": "ab47456d",
   "metadata": {},
   "source": [
    "## Encoding"
   ]
  },
  {
   "cell_type": "code",
   "execution_count": 9,
   "id": "2de1b775",
   "metadata": {},
   "outputs": [
    {
     "name": "stdout",
     "output_type": "stream",
     "text": [
      "Categorical variables:\n",
      "['adgroup']\n"
     ]
    }
   ],
   "source": [
    "# Get list of categorical variables\n",
    "s = (X_train.dtypes == 'object')\n",
    "object_cols = list(s[s].index)\n",
    "\n",
    "print(\"Categorical variables:\")\n",
    "print(object_cols)"
   ]
  },
  {
   "cell_type": "code",
   "execution_count": 10,
   "id": "743d3cf3",
   "metadata": {},
   "outputs": [],
   "source": [
    "from sklearn.preprocessing import OneHotEncoder\n",
    "# Apply one-hot encoder to each column with categorical data\n",
    "OH_encoder = OneHotEncoder(handle_unknown='ignore', sparse=False)\n",
    "OH_cols_train = pd.DataFrame(OH_encoder.fit_transform(X_train[object_cols]))\n",
    "OH_cols_valid = pd.DataFrame(OH_encoder.transform(X_valid[object_cols]))\n",
    "OH_cols_test = pd.DataFrame(OH_encoder.transform(X_test[object_cols]))\n",
    "\n",
    "# One-hot encoding removed index; put it back\n",
    "OH_cols_train.index = X_train.index\n",
    "OH_cols_valid.index = X_valid.index\n",
    "OH_cols_test.index = X_test.index\n",
    "\n",
    "# Remove categorical columns (will replace with one-hot encoding)\n",
    "\n",
    "num_X_train = X_train.drop(object_cols, axis=1)\n",
    "num_X_valid = X_valid.drop(object_cols, axis=1)\n",
    "num_X_test = X_test.drop(object_cols, axis=1)\n",
    "\n",
    "# Add one-hot encoded columns to numerical features\n",
    "OH_X_train = pd.concat([num_X_train, OH_cols_train], axis=1)\n",
    "OH_X_valid = pd.concat([num_X_valid, OH_cols_valid], axis=1)\n",
    "OH_X_test = pd.concat([num_X_test, OH_cols_test], axis=1)"
   ]
  },
  {
   "cell_type": "code",
   "execution_count": 11,
   "id": "bb440967",
   "metadata": {},
   "outputs": [],
   "source": [
    "import pandas as pd\n",
    "from sklearn.metrics import mean_absolute_error\n"
   ]
  },
  {
   "cell_type": "code",
   "execution_count": 16,
   "id": "3a9bca52",
   "metadata": {},
   "outputs": [],
   "source": [
    "target = rf_model.predict(OH_X_test)\n",
    "\n",
    "\n",
    "res = pd.DataFrame(target) #preditcions are nothing but the final predictions of your model on input features of your new unseen test data\n",
    "res.index = test.index # its important for comparison. Here \"test_new\" is your new test dataset\n",
    "res.columns = [\"revenue\"]\n",
    "res.to_csv(\"revenue.csv\", index = False)      # the csv file will be saved locally on the same location where this notebook is located."
   ]
  },
  {
   "cell_type": "markdown",
   "id": "5478bb70",
   "metadata": {},
   "source": [
    "## Choose machine learning model"
   ]
  },
  {
   "cell_type": "code",
   "execution_count": 36,
   "id": "06d8a4bf",
   "metadata": {},
   "outputs": [
    {
     "data": {
      "text/plain": [
       "RandomForestRegressor(max_depth=8, random_state=0)"
      ]
     },
     "execution_count": 36,
     "metadata": {},
     "output_type": "execute_result"
    }
   ],
   "source": [
    "from sklearn.ensemble import RandomForestRegressor\n",
    "from sklearn.datasets import make_regression\n",
    "X, y = make_regression(n_features=10, n_informative=2,\n",
    "                       random_state=0, shuffle=False)\n",
    "regr = RandomForestRegressor(max_depth=8, random_state=0)\n",
    "regr.fit(OH_X_train, y_train)"
   ]
  },
  {
   "cell_type": "code",
   "execution_count": 37,
   "id": "ebf1f265",
   "metadata": {},
   "outputs": [],
   "source": [
    "y1=regr.predict(OH_X_valid)"
   ]
  },
  {
   "cell_type": "code",
   "execution_count": 38,
   "id": "f4f021e0",
   "metadata": {},
   "outputs": [
    {
     "name": "stdout",
     "output_type": "stream",
     "text": [
      "Validation MAE for Random Forest Model: 67\n"
     ]
    }
   ],
   "source": [
    "rf_val_mae = mean_absolute_error(y1, y_valid)\n",
    "print(\"Validation MAE for Random Forest Model: {:,.0f}\".format(rf_val_mae))"
   ]
  },
  {
   "cell_type": "code",
   "execution_count": 39,
   "id": "77f54b29",
   "metadata": {},
   "outputs": [],
   "source": [
    "y2=regr.predict(OH_X_test)"
   ]
  },
  {
   "cell_type": "code",
   "execution_count": 40,
   "id": "5d73b264",
   "metadata": {},
   "outputs": [],
   "source": [
    "res = pd.DataFrame(y2) #preditcions are nothing but the final predictions of your model on input features of your new unseen test data\n",
    "res.index = test.index # its important for comparison. Here \"test_new\" is your new test dataset\n",
    "res.columns = [\"revenue\"]\n",
    "res.to_csv(\"revenue.csv\", index = False)      # the csv file will be saved locally on the same location where this notebook is located."
   ]
  },
  {
   "cell_type": "code",
   "execution_count": null,
   "id": "81d68371",
   "metadata": {},
   "outputs": [],
   "source": []
  }
 ],
 "metadata": {
  "kernelspec": {
   "display_name": "Python 3",
   "language": "python",
   "name": "python3"
  },
  "language_info": {
   "codemirror_mode": {
    "name": "ipython",
    "version": 3
   },
   "file_extension": ".py",
   "mimetype": "text/x-python",
   "name": "python",
   "nbconvert_exporter": "python",
   "pygments_lexer": "ipython3",
   "version": "3.8.8"
  }
 },
 "nbformat": 4,
 "nbformat_minor": 5
}
